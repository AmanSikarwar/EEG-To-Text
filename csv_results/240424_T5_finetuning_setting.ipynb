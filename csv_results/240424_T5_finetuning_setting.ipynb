{
 "cells": [
  {
   "cell_type": "code",
   "execution_count": 1,
   "id": "7b15c7c1-4a88-4d03-b94b-0446ccab43e3",
   "metadata": {},
   "outputs": [
    {
     "name": "stderr",
     "output_type": "stream",
     "text": [
      "/home/hanjh/bin/miniconda3/envs/EEGToText/lib/python3.8/site-packages/transformers/models/t5/tokenization_t5.py:217: FutureWarning: This tokenizer was incorrectly instantiated with a model max length of 512 which will be corrected in Transformers v5.\n",
      "For now, this behavior is kept to avoid breaking backwards compatibility when padding/encoding with `truncation is True`.\n",
      "- Be aware that you SHOULD NOT rely on t5-large automatically truncating your input to 512 when padding/encoding.\n",
      "- If you want to encode/pad to sequences longer than 512 you can either instantiate this tokenizer with `model_max_length` or pass `max_length` when encoding/padding.\n",
      "- To avoid this warning, please instantiate this tokenizer with `model_max_length` set to your preferred value.\n",
      "  warnings.warn(\n",
      "You are using the default legacy behaviour of the <class 'transformers.models.t5.tokenization_t5.T5Tokenizer'>. If you see this, DO NOT PANIC! This is expected, and simply means that the `legacy` (previous) behavior will be used so nothing changes for you. If you want to use the new behaviour, set `legacy=True`. This should only be set if you understand what it means, and thouroughly read the reason why this was added as explained in https://github.com/huggingface/transformers/pull/24565\n"
     ]
    }
   ],
   "source": [
    "from transformers import T5Tokenizer, T5ForConditionalGeneration\n",
    "\n",
    "tokenizer = T5Tokenizer.from_pretrained(\"t5-large\")\n",
    "model = T5ForConditionalGeneration.from_pretrained(\"t5-large\")"
   ]
  },
  {
   "cell_type": "code",
   "execution_count": 2,
   "id": "c3186932-a3b5-4a20-a5b3-b79d5874d16b",
   "metadata": {},
   "outputs": [
    {
     "data": {
      "text/plain": [
       "tensor([[13959,   262,  8579,    12,  1566,    10,     1]])"
      ]
     },
     "execution_count": 2,
     "metadata": {},
     "output_type": "execute_result"
    }
   ],
   "source": [
    "input_ids = tokenizer(\"translate EEG to English: \", return_tensors=\"pt\").input_ids\n",
    "input_ids"
   ]
  },
  {
   "cell_type": "code",
   "execution_count": 3,
   "id": "069a9a4c-0d28-4613-b2dd-ffa0abd2e0fd",
   "metadata": {},
   "outputs": [
    {
     "data": {
      "text/plain": [
       "tensor([[13959,  1566,    12,  1566,    10,     1]])"
      ]
     },
     "execution_count": 3,
     "metadata": {},
     "output_type": "execute_result"
    }
   ],
   "source": [
    "input_ids = tokenizer(\"translate English to English: \", return_tensors=\"pt\").input_ids\n",
    "input_ids"
   ]
  },
  {
   "cell_type": "code",
   "execution_count": 4,
   "id": "f68bda8b-b118-4520-9ac7-72b8ffc95bf1",
   "metadata": {},
   "outputs": [
    {
     "data": {
      "text/plain": [
       "torch.Size([100, 6])"
      ]
     },
     "execution_count": 4,
     "metadata": {},
     "output_type": "execute_result"
    }
   ],
   "source": [
    "input_ids.repeat(100, 1).shape"
   ]
  },
  {
   "cell_type": "code",
   "execution_count": 5,
   "id": "a142ae29-2769-45f5-ba9d-5f93d583647e",
   "metadata": {},
   "outputs": [
    {
     "data": {
      "text/plain": [
       "tensor([[[ 1.3374,  2.5600,  0.7064,  ...,  0.7470,  1.6448, -1.0109],\n",
       "         [-0.5682, -0.5854,  0.0974,  ..., -0.2271, -0.1595,  0.5075],\n",
       "         [-1.4115,  0.4484,  0.9115,  ...,  1.5161, -1.9184,  0.5424],\n",
       "         ...,\n",
       "         [ 1.4907,  0.8101,  0.8353,  ..., -0.7885,  0.0211, -0.0088],\n",
       "         [ 0.1107, -0.6868,  0.4876,  ..., -1.5508,  1.9797, -0.0509],\n",
       "         [-0.0518, -0.3459, -0.0724,  ...,  0.2318,  1.0648,  2.4334]],\n",
       "\n",
       "        [[-1.6174,  0.6054, -1.9924,  ...,  1.0129, -0.9994, -0.5570],\n",
       "         [-1.6427,  0.8491, -0.0437,  ..., -1.7448,  0.2897, -0.5853],\n",
       "         [ 0.0939,  1.4410, -1.2771,  ...,  0.0969, -0.7026,  0.3922],\n",
       "         ...,\n",
       "         [-1.0335,  0.0098, -1.3054,  ..., -1.0744,  0.6596,  2.7872],\n",
       "         [-1.0477,  1.0369, -1.6365,  ...,  0.0083, -1.1186,  0.8101],\n",
       "         [-0.8990,  0.7169, -0.8073,  ...,  0.7134,  0.4937, -0.7704]],\n",
       "\n",
       "        [[-0.1738,  0.4841, -1.9050,  ...,  2.1110, -0.9089,  0.6279],\n",
       "         [ 0.8249,  0.0435, -0.3616,  ..., -0.1200, -1.7074,  0.9117],\n",
       "         [ 1.4008,  0.1006,  0.6356,  ...,  0.3889, -0.2903, -0.0036],\n",
       "         ...,\n",
       "         [-0.4688, -0.8519,  0.8915,  ...,  0.2358,  0.3808,  0.3338],\n",
       "         [-1.6690, -1.3890, -1.4085,  ..., -0.5879,  0.8729, -1.2002],\n",
       "         [ 1.3431, -0.6611,  1.3317,  ...,  0.4304,  1.4645, -0.4864]],\n",
       "\n",
       "        ...,\n",
       "\n",
       "        [[ 0.0847,  1.0476,  0.2349,  ..., -1.1841, -1.2696,  0.4347],\n",
       "         [ 0.2314,  1.0087,  0.2766,  ..., -0.1451,  0.6436,  0.7542],\n",
       "         [ 1.7945, -0.0813,  0.1776,  ...,  2.0740,  0.9160, -0.7689],\n",
       "         ...,\n",
       "         [-0.8578,  0.1187,  1.1965,  ..., -0.2715, -1.7616, -0.0420],\n",
       "         [ 0.9876, -1.3740,  0.4378,  ...,  0.2659,  0.8047,  0.1563],\n",
       "         [ 0.2042, -0.3839,  0.2107,  ...,  0.9614,  0.5096, -0.6467]],\n",
       "\n",
       "        [[-0.5679, -0.6259,  0.7053,  ...,  0.3265, -0.8390, -0.5984],\n",
       "         [-1.0618, -0.4753,  1.1879,  ..., -0.2052, -1.1519,  0.6540],\n",
       "         [-0.4249,  2.8662,  1.7301,  ..., -2.0126, -1.5807, -0.9872],\n",
       "         ...,\n",
       "         [ 0.8630,  2.0826,  0.3676,  ...,  0.2968, -0.4764,  0.0697],\n",
       "         [-1.4835,  0.9576,  0.0671,  ..., -1.2119, -0.3639, -0.1423],\n",
       "         [-0.5610, -0.2121, -0.2499,  ...,  1.4937, -1.3523, -1.9177]],\n",
       "\n",
       "        [[-0.3187, -0.7065,  1.2443,  ..., -0.2025,  1.4731, -0.0581],\n",
       "         [-1.6955, -0.0645,  0.1535,  ..., -0.7164, -2.1004,  0.3438],\n",
       "         [-0.7977, -0.3515, -0.1328,  ..., -1.5819,  1.2026, -0.0846],\n",
       "         ...,\n",
       "         [-1.6320, -0.3461, -0.8126,  ..., -0.0759, -0.0063, -0.7049],\n",
       "         [ 0.1534, -0.2390,  2.1943,  ...,  0.5011,  0.4278,  1.6458],\n",
       "         [ 0.4878,  0.2498,  1.8891,  ..., -1.2897,  0.2523,  1.2900]]])"
      ]
     },
     "execution_count": 5,
     "metadata": {},
     "output_type": "execute_result"
    }
   ],
   "source": [
    "import torch\n",
    "torch.torch.randn(100, 56, 800)"
   ]
  },
  {
   "cell_type": "code",
   "execution_count": 6,
   "id": "92f4f8b1-e350-450c-b00b-9f957960b944",
   "metadata": {},
   "outputs": [],
   "source": [
    "model = T5ForConditionalGeneration.from_pretrained(\"t5-large\")"
   ]
  },
  {
   "cell_type": "code",
   "execution_count": 46,
   "id": "df3708e1-f9ba-4bec-8a74-f27aadaa87ba",
   "metadata": {},
   "outputs": [
    {
     "data": {
      "text/plain": [
       "T5Config {\n",
       "  \"_name_or_path\": \"t5-large\",\n",
       "  \"architectures\": [\n",
       "    \"T5ForConditionalGeneration\"\n",
       "  ],\n",
       "  \"classifier_dropout\": 0.0,\n",
       "  \"d_ff\": 4096,\n",
       "  \"d_kv\": 64,\n",
       "  \"d_model\": 1024,\n",
       "  \"decoder_start_token_id\": 0,\n",
       "  \"dense_act_fn\": \"relu\",\n",
       "  \"dropout_rate\": 0.1,\n",
       "  \"eos_token_id\": 1,\n",
       "  \"feed_forward_proj\": \"relu\",\n",
       "  \"initializer_factor\": 1.0,\n",
       "  \"is_encoder_decoder\": true,\n",
       "  \"is_gated_act\": false,\n",
       "  \"layer_norm_epsilon\": 1e-06,\n",
       "  \"model_type\": \"t5\",\n",
       "  \"n_positions\": 512,\n",
       "  \"num_decoder_layers\": 24,\n",
       "  \"num_heads\": 16,\n",
       "  \"num_layers\": 24,\n",
       "  \"output_past\": true,\n",
       "  \"pad_token_id\": 0,\n",
       "  \"relative_attention_max_distance\": 128,\n",
       "  \"relative_attention_num_buckets\": 32,\n",
       "  \"task_specific_params\": {\n",
       "    \"summarization\": {\n",
       "      \"early_stopping\": true,\n",
       "      \"length_penalty\": 2.0,\n",
       "      \"max_length\": 200,\n",
       "      \"min_length\": 30,\n",
       "      \"no_repeat_ngram_size\": 3,\n",
       "      \"num_beams\": 4,\n",
       "      \"prefix\": \"summarize: \"\n",
       "    },\n",
       "    \"translation_en_to_de\": {\n",
       "      \"early_stopping\": true,\n",
       "      \"max_length\": 300,\n",
       "      \"num_beams\": 4,\n",
       "      \"prefix\": \"translate English to German: \"\n",
       "    },\n",
       "    \"translation_en_to_fr\": {\n",
       "      \"early_stopping\": true,\n",
       "      \"max_length\": 300,\n",
       "      \"num_beams\": 4,\n",
       "      \"prefix\": \"translate English to French: \"\n",
       "    },\n",
       "    \"translation_en_to_ro\": {\n",
       "      \"early_stopping\": true,\n",
       "      \"max_length\": 300,\n",
       "      \"num_beams\": 4,\n",
       "      \"prefix\": \"translate English to Romanian: \"\n",
       "    }\n",
       "  },\n",
       "  \"transformers_version\": \"4.32.1\",\n",
       "  \"use_cache\": true,\n",
       "  \"vocab_size\": 32128\n",
       "}"
      ]
     },
     "execution_count": 46,
     "metadata": {},
     "output_type": "execute_result"
    }
   ],
   "source": [
    "model.config"
   ]
  },
  {
   "cell_type": "code",
   "execution_count": null,
   "id": "4f2a33b7-fdd1-4f5a-96dc-35c6bd8ec07c",
   "metadata": {},
   "outputs": [],
   "source": []
  },
  {
   "cell_type": "code",
   "execution_count": null,
   "id": "7f6cb455-a44a-40e3-a59a-d03d2bd4d214",
   "metadata": {},
   "outputs": [],
   "source": []
  },
  {
   "cell_type": "code",
   "execution_count": 7,
   "id": "f172b7ef-4a78-4c46-a120-53be90e3da42",
   "metadata": {},
   "outputs": [
    {
     "name": "stdout",
     "output_type": "stream",
     "text": [
      "0.04459874593790213\n",
      "0.04459874593790213\n"
     ]
    }
   ],
   "source": [
    "def msize(m):\n",
    "    return sum(p.numel() for p in m.parameters())\n",
    "print(msize(model.shared) / msize(model))   # 0.3298\n",
    "print(msize(model.lm_head) / msize(model))  # 0.3298"
   ]
  },
  {
   "cell_type": "code",
   "execution_count": 8,
   "id": "5c81a8a1-9d18-44bd-90fc-fc4ddac613cb",
   "metadata": {},
   "outputs": [
    {
     "data": {
      "text/plain": [
       "Embedding(32128, 1024)"
      ]
     },
     "execution_count": 8,
     "metadata": {},
     "output_type": "execute_result"
    }
   ],
   "source": [
    "model.shared"
   ]
  },
  {
   "cell_type": "code",
   "execution_count": 9,
   "id": "5b47e334-ab7b-493a-8daa-bd1715826b45",
   "metadata": {},
   "outputs": [
    {
     "data": {
      "text/plain": [
       "Linear(in_features=1024, out_features=32128, bias=False)"
      ]
     },
     "execution_count": 9,
     "metadata": {},
     "output_type": "execute_result"
    }
   ],
   "source": [
    "model.lm_head"
   ]
  },
  {
   "cell_type": "code",
   "execution_count": 34,
   "id": "8e188602-614e-44d2-b7e3-218babf7ba6d",
   "metadata": {},
   "outputs": [
    {
     "data": {
      "text/plain": [
       "device(type='cpu')"
      ]
     },
     "execution_count": 34,
     "metadata": {},
     "output_type": "execute_result"
    }
   ],
   "source": [
    "input_ids.device"
   ]
  },
  {
   "cell_type": "code",
   "execution_count": 11,
   "id": "317e792e-7427-4382-93ca-d3febf2f542b",
   "metadata": {},
   "outputs": [
    {
     "data": {
      "text/plain": [
       "torch.Size([32128, 1024])"
      ]
     },
     "execution_count": 11,
     "metadata": {},
     "output_type": "execute_result"
    }
   ],
   "source": [
    "model.shared.weight.shape"
   ]
  },
  {
   "cell_type": "code",
   "execution_count": 28,
   "id": "f1c0dad0-4b56-4a82-8bad-5a528a4b13fa",
   "metadata": {},
   "outputs": [],
   "source": [
    "eeg= torch.randn(16, 56, 1024)"
   ]
  },
  {
   "cell_type": "code",
   "execution_count": 13,
   "id": "3e1c9019-c691-4173-82d0-c71457852f1d",
   "metadata": {},
   "outputs": [
    {
     "data": {
      "text/plain": [
       "torch.Size([32128, 1024])"
      ]
     },
     "execution_count": 13,
     "metadata": {},
     "output_type": "execute_result"
    }
   ],
   "source": [
    "model.shared.weight.shape"
   ]
  },
  {
   "cell_type": "code",
   "execution_count": 27,
   "id": "c4bb0879-fcd4-48f3-8829-ebd8e83a9b17",
   "metadata": {},
   "outputs": [
    {
     "data": {
      "text/plain": [
       "torch.Size([16, 6, 1024])"
      ]
     },
     "execution_count": 27,
     "metadata": {},
     "output_type": "execute_result"
    }
   ],
   "source": [
    "model.shared(input_ids).repeat(16, 1, 1).shape"
   ]
  },
  {
   "cell_type": "code",
   "execution_count": 33,
   "id": "fa0019b1-af2c-4623-a02c-fee4e05b773f",
   "metadata": {},
   "outputs": [
    {
     "data": {
      "text/plain": [
       "torch.Size([16, 62, 1024])"
      ]
     },
     "execution_count": 33,
     "metadata": {},
     "output_type": "execute_result"
    }
   ],
   "source": [
    "torch.cat((model.shared(input_ids).repeat(16, 1, 1), eeg), dim=1).shape"
   ]
  },
  {
   "cell_type": "code",
   "execution_count": 35,
   "id": "aa704e0c-1955-4e77-8bad-f933888e8950",
   "metadata": {},
   "outputs": [
    {
     "ename": "NameError",
     "evalue": "name 'attention_mask' is not defined",
     "output_type": "error",
     "traceback": [
      "\u001b[0;31m---------------------------------------------------------------------------\u001b[0m",
      "\u001b[0;31mNameError\u001b[0m                                 Traceback (most recent call last)",
      "Cell \u001b[0;32mIn[35], line 1\u001b[0m\n\u001b[0;32m----> 1\u001b[0m \u001b[43mattention_mask\u001b[49m\n",
      "\u001b[0;31mNameError\u001b[0m: name 'attention_mask' is not defined"
     ]
    }
   ],
   "source": [
    "attention_mask"
   ]
  },
  {
   "cell_type": "code",
   "execution_count": 38,
   "id": "20e694fe-cefb-40d7-a563-762ca7d12384",
   "metadata": {},
   "outputs": [
    {
     "data": {
      "text/plain": [
       "torch.Size([16, 6])"
      ]
     },
     "execution_count": 38,
     "metadata": {},
     "output_type": "execute_result"
    }
   ],
   "source": [
    "torch.zeros(16, 10).shape"
   ]
  },
  {
   "cell_type": "code",
   "execution_count": 40,
   "id": "dbe7b4c1-4574-4903-94e8-bcf87b5355c4",
   "metadata": {},
   "outputs": [
    {
     "data": {
      "text/plain": [
       "tensor([[1., 1., 1., 1., 1., 1., 0., 0., 0., 0., 0., 0., 0., 0., 0., 0.],\n",
       "        [1., 1., 1., 1., 1., 1., 0., 0., 0., 0., 0., 0., 0., 0., 0., 0.],\n",
       "        [1., 1., 1., 1., 1., 1., 0., 0., 0., 0., 0., 0., 0., 0., 0., 0.],\n",
       "        [1., 1., 1., 1., 1., 1., 0., 0., 0., 0., 0., 0., 0., 0., 0., 0.],\n",
       "        [1., 1., 1., 1., 1., 1., 0., 0., 0., 0., 0., 0., 0., 0., 0., 0.],\n",
       "        [1., 1., 1., 1., 1., 1., 0., 0., 0., 0., 0., 0., 0., 0., 0., 0.],\n",
       "        [1., 1., 1., 1., 1., 1., 0., 0., 0., 0., 0., 0., 0., 0., 0., 0.],\n",
       "        [1., 1., 1., 1., 1., 1., 0., 0., 0., 0., 0., 0., 0., 0., 0., 0.],\n",
       "        [1., 1., 1., 1., 1., 1., 0., 0., 0., 0., 0., 0., 0., 0., 0., 0.],\n",
       "        [1., 1., 1., 1., 1., 1., 0., 0., 0., 0., 0., 0., 0., 0., 0., 0.],\n",
       "        [1., 1., 1., 1., 1., 1., 0., 0., 0., 0., 0., 0., 0., 0., 0., 0.],\n",
       "        [1., 1., 1., 1., 1., 1., 0., 0., 0., 0., 0., 0., 0., 0., 0., 0.],\n",
       "        [1., 1., 1., 1., 1., 1., 0., 0., 0., 0., 0., 0., 0., 0., 0., 0.],\n",
       "        [1., 1., 1., 1., 1., 1., 0., 0., 0., 0., 0., 0., 0., 0., 0., 0.],\n",
       "        [1., 1., 1., 1., 1., 1., 0., 0., 0., 0., 0., 0., 0., 0., 0., 0.],\n",
       "        [1., 1., 1., 1., 1., 1., 0., 0., 0., 0., 0., 0., 0., 0., 0., 0.]])"
      ]
     },
     "execution_count": 40,
     "metadata": {},
     "output_type": "execute_result"
    }
   ],
   "source": [
    "torch.cat((torch.ones(16, 6), torch.zeros(16, 10)), dim=1)"
   ]
  },
  {
   "cell_type": "code",
   "execution_count": null,
   "id": "1cfa2361-ef98-4753-b7aa-6b6888eb6e63",
   "metadata": {},
   "outputs": [],
   "source": []
  }
 ],
 "metadata": {
  "kernelspec": {
   "display_name": "EEGToText",
   "language": "python",
   "name": "eegtotext"
  },
  "language_info": {
   "codemirror_mode": {
    "name": "ipython",
    "version": 3
   },
   "file_extension": ".py",
   "mimetype": "text/x-python",
   "name": "python",
   "nbconvert_exporter": "python",
   "pygments_lexer": "ipython3",
   "version": "3.8.5"
  }
 },
 "nbformat": 4,
 "nbformat_minor": 5
}
